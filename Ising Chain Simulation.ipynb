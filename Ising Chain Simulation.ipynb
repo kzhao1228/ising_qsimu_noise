{
 "cells": [
  {
   "cell_type": "markdown",
   "metadata": {},
   "source": [
    "### An algorithm to find numerical solution to the final state of an Ising chain with Hamiltonian, ###     \n",
    "### $$ \\begin{align} H = \\sum_{i<j}^{n} \\left [- \\frac{1}{2 \\left | i-j \\right |}\\sigma_{i}^{x}\\sigma_{j}^{x} -\\frac{1}{2}\\sigma_{j}^{x} - \\frac{1}{2}\\sigma_{j}^{z}\\right ] \\end{align} $$\n",
    "### where i<j and the interaction $J_{ij} = \\frac{1}{\\left | i-j \\right |}$. ###"
   ]
  },
  {
   "cell_type": "code",
   "execution_count": 1,
   "metadata": {},
   "outputs": [],
   "source": [
    "from pyquil import Program, get_qc\n",
    "from pyquil.gates import *\n",
    "import numpy as np,os\n",
    "import math\n",
    "from scipy.linalg import expm\n",
    "import matplotlib.pyplot as plt\n",
    "%matplotlib inline\n",
    "from tqdm import tqdm_notebook,tqdm\n",
    "from itertools import permutations \n",
    "from itertools import combinations\n",
    "from pyquil.paulis import trotterize\n",
    "from pyquil.paulis import ID, sX, sY, sZ,ID\n",
    "from pyquil.gates import CNOT, Z, X, Y, H, RZ, RX\n",
    "from pyquil.api import local_qvm\n",
    "from pyquil.api import WavefunctionSimulator\n",
    "#return exact matrix form for the Pauli sum\n",
    "from pyquil.unitary_tools import lifted_pauli \n",
    "from pyquil.paulis import PauliSum\n",
    "output_dir = 'Ising Chain Simu'\n",
    "if not os.path.exists(output_dir): os.makedirs(output_dir)\n",
    "pauli_x = [sX(0),sX(1),sX(2),sX(3),sX(4),sX(5),sX(6),sX(7),sX(8)]\n",
    "pauli_z = [sZ(0),sZ(1),sZ(2),sZ(3),sZ(4),sZ(5),sZ(6),sZ(7),sZ(8)]"
   ]
  },
  {
   "cell_type": "code",
   "execution_count": 2,
   "metadata": {},
   "outputs": [
    {
     "name": "stdout",
     "output_type": "stream",
     "text": [
      "Current size: [6.0, 4.0]\n"
     ]
    }
   ],
   "source": [
    "# Get current size\n",
    "fig_size = plt.rcParams[\"figure.figsize\"]\n",
    "# Prints: [6.0, 4.0]\n",
    "print(\"Current size:\", fig_size)\n",
    "# Set figure width to 11 and height to 8\n",
    "fig_size[0] = 11\n",
    "fig_size[1] = 8\n",
    "plt.rcParams[\"figure.figsize\"] = fig_size"
   ]
  },
  {
   "cell_type": "code",
   "execution_count": 3,
   "metadata": {},
   "outputs": [],
   "source": [
    "def convert_row(x,n):\n",
    "    '''Definition of a function to convert the output\n",
    "       vector from PyQuil to a ROW vector, this function\n",
    "       shall be used for writing final state data.\n",
    "       param x: an output vector.\n",
    "       param n: number of qubits.'''\n",
    "    vector = []\n",
    "    for i in np.arange(2**n):\n",
    "        key = x[i]\n",
    "        vector.append(key)\n",
    "    return vector"
   ]
  },
  {
   "cell_type": "code",
   "execution_count": 4,
   "metadata": {},
   "outputs": [],
   "source": [
    "def ini_state(n):\n",
    "    '''Definition of a function to generate an initial state\n",
    "       |00...00> for n qubits.\n",
    "       param n: numble of qubits'''\n",
    "    state = 1\n",
    "    for i in np.arange(n):\n",
    "        up_col = np.array([[1],[0]])\n",
    "        state = np.kron(state,up_col)\n",
    "    return state"
   ]
  },
  {
   "cell_type": "code",
   "execution_count": 5,
   "metadata": {},
   "outputs": [],
   "source": [
    "def convert_col(x,n):\n",
    "    '''Definition of a function to convert the output\n",
    "       vector from PyQuil to a COLUMN vector, this function\n",
    "       shall be used for reading final state data.\n",
    "       param x: an output vector.\n",
    "       param n: number of qubits.'''\n",
    "    vector = []\n",
    "    for i in np.arange(2**n):\n",
    "        key = x[i]\n",
    "        vector.append([key])\n",
    "    return vector"
   ]
  },
  {
   "cell_type": "code",
   "execution_count": 6,
   "metadata": {},
   "outputs": [],
   "source": [
    "def fidelity(x,y):\n",
    "    '''Definition of fidelity calculation of vector x and y\n",
    "       param x: input column vector 1\n",
    "       param y: input co;lumn vector 2\n",
    "       function returns a fidility value between 0 and 1'''\n",
    "    #create some initial values for later iteration of addition\n",
    "    norm_x = 0\n",
    "    norm_y = 0\n",
    "    #loops to compute normalisation constants for both vector x\n",
    "    #and y respectively\n",
    "    for i in np.arange(len(x)):\n",
    "        norm_x = norm_x + abs(x[i,0])**2\n",
    "    for i in np.arange(len(y)):\n",
    "        norm_y = norm_y + abs(y[i,0])**2\n",
    "    #now normalise the vectors\n",
    "    x_norm = x/np.sqrt(norm_x)\n",
    "    y_norm = y/np.sqrt(norm_y)\n",
    "    #compute Hermitian conjugate of vector x\n",
    "    x_norm_trans = np.matrix.conjugate(x_norm.transpose())\n",
    "    #compute inner product of vector x and y\n",
    "    inner_pro = x_norm_trans.dot(y_norm)\n",
    "    #to obtain a value for the fidility\n",
    "    fid = (abs(inner_pro)[0,0])**2\n",
    "    return fid"
   ]
  },
  {
   "cell_type": "code",
   "execution_count": 7,
   "metadata": {},
   "outputs": [],
   "source": [
    "def intera_J(n):\n",
    "    '''Definition of a function to compute the interaction\n",
    "       between site i and j and return a list of value for \n",
    "       1/|i-j|\n",
    "       param n: number of qubits (system size).\n",
    "       output: an array of interaction strength values for\n",
    "       each coupling term.\n",
    "       '''\n",
    "    index = np.array(list(combinations(range(n),2)))\n",
    "    no_of_comb = len(index)\n",
    "    #collect values for interaction strength to form a list\n",
    "    lis = []\n",
    "    for i in np.arange(no_of_comb):\n",
    "        diff = abs(index[i,0] - index[i,1])\n",
    "        factor = 1.0/diff\n",
    "        lis.append(factor)\n",
    "    lis_factor = np.array(lis)\n",
    "    return lis_factor"
   ]
  },
  {
   "cell_type": "code",
   "execution_count": 8,
   "metadata": {},
   "outputs": [],
   "source": [
    "def comb_xx(n):\n",
    "    '''Definition of a function to find all combinations \n",
    "       of the Pauli terms in the XX part of the Ising-like \n",
    "       Hamiltonian for n qubits to be digitally simulated. \n",
    "       Each of the terms is of the form sX(i)*sX(j).\n",
    "       param n: number of qubits.\n",
    "       output: an array of all Paulis terms.'''\n",
    "    index = np.array(list(combinations(range(n),2)))\n",
    "    no_of_comb = len(index)\n",
    "    comb_xx = []\n",
    "    for i in np.arange(no_of_comb):\n",
    "        key1 = index[i][0]\n",
    "        key2 = index[i][1]\n",
    "        comb_xx.append(pauli_x[key1]*pauli_x[key2]*intera_J(n)[i])\n",
    "    return comb_xx"
   ]
  },
  {
   "cell_type": "code",
   "execution_count": 9,
   "metadata": {},
   "outputs": [],
   "source": [
    "def comb_z(n):\n",
    "    '''Definition of a function to find all combinations \n",
    "       of the Pauli terms in the field interaction along \n",
    "       z direction part of the Ising-like Hamiltonian for \n",
    "       n qubits to be digitally simulated. Each of the \n",
    "       terms is of the form sZ(j).\n",
    "       param n: number of qubits.\n",
    "       output: an array of all Pauli Z terms.'''\n",
    "    index = np.array(list(combinations(range(n),2)))\n",
    "    no_of_comb = len(index)\n",
    "    comb_z = []\n",
    "    for i in np.arange(no_of_comb):\n",
    "        key = index[i][1]\n",
    "        comb_z.append(pauli_z[key])\n",
    "    return comb_z"
   ]
  },
  {
   "cell_type": "code",
   "execution_count": 10,
   "metadata": {},
   "outputs": [],
   "source": [
    "def comb_x(n):\n",
    "    '''Definition of a function to find all combinations \n",
    "       of the Pauli terms in the field interaction along \n",
    "       x direction part of the Ising-like Hamiltonian for \n",
    "       n qubits to be digitally simulated. Each of the \n",
    "       terms is of the form sX(j).\n",
    "       param n: number of qubits.\n",
    "       output: an array of all Pauli Z terms.'''\n",
    "    index = np.array(list(combinations(range(n),2)))\n",
    "    no_of_comb = len(index)\n",
    "    comb_x = []\n",
    "    for i in np.arange(no_of_comb):\n",
    "        key = index[i][1]\n",
    "        comb_x.append(pauli_x[key])\n",
    "    return comb_x"
   ]
  },
  {
   "cell_type": "markdown",
   "metadata": {},
   "source": [
    "### ${\\color{Blue}{\\mathit{\\text{Part I i):}}}}$ The classical analogue simulation."
   ]
  },
  {
   "cell_type": "code",
   "execution_count": 11,
   "metadata": {},
   "outputs": [],
   "source": [
    "def theo_Hamil(n,t):\n",
    "    '''Difinition of a function to compute and return theoretical\n",
    "       Hamiltonian for n qubits with (choosing-2-out-of-n) \n",
    "       coupling terms in matrix form for evolution time t.\n",
    "       param n: number of qubits.\n",
    "       param t: total evolution time'''\n",
    "    factor = 0.5\n",
    "    # number of combination for n qubits\n",
    "    length = np.arange(len(comb_xx(n)))\n",
    "    # compute the xx interaction part of the Hamiltonian\n",
    "    part_xx = [comb_xx(n)[i]*t*factor for i in length]\n",
    "    # compute the x field interaction part of the Hamiltonian\n",
    "    part_x = [x*factor*t for x in comb_x(n)]\n",
    "    # compute the z field interaction part of the Hamiltonian\n",
    "    part_z = [x*factor*t for x in comb_z(n)]\n",
    "    # sum up all Pauli terms in the part_xx\n",
    "    pauli_sum_xx = PauliSum(part_xx)\n",
    "    # sum up all Pauli terms in the part_x\n",
    "    pauli_sum_x = PauliSum(part_x)\n",
    "    # sum up all Pauli terms in the part_z\n",
    "    pauli_sum_z = PauliSum(part_z)\n",
    "    # acquire a list of qubit indices for the applied \n",
    "    # Pauli operators\n",
    "    list_qbt = PauliSum.get_qubits(pauli_sum_xx)\n",
    "    # add up the final matrices of both the pauli_xx\n",
    "    # pauli_z to obtain the Hamiltonian in its matrix\n",
    "    # form\n",
    "    Hamil = lifted_pauli(pauli_sum_xx,list_qbt) + lifted_pauli(pauli_sum_z,list_qbt) \\\n",
    "            + lifted_pauli(pauli_sum_x,list_qbt)\n",
    "    return Hamil"
   ]
  },
  {
   "cell_type": "code",
   "execution_count": 12,
   "metadata": {},
   "outputs": [],
   "source": [
    "n = 2  # no of qubits\n",
    "t = 0.1 # evolution time\n",
    "theo_9qbt = expm(1j*theo_Hamil(n,t)).dot(ini_state(n))"
   ]
  },
  {
   "cell_type": "markdown",
   "metadata": {},
   "source": [
    "### ${\\color{Blue}{\\mathit{\\text{Part I: ii)}}}}$ The virtual digital simulation."
   ]
  },
  {
   "cell_type": "markdown",
   "metadata": {},
   "source": [
    "#### The first order Trotter approximant to $e^{t(A+B+C)}$  is given by, ###\n",
    "### $e^{t(A+B+C)} = e^{t(A+B)}e^{tC} = e^{tA}e^{tB}e^{tC}$. ###\n",
    "#### We let $A = \\sigma^{x}\\sigma^{x}, B = \\sigma^{x}, C = \\sigma^{z}$. Obviously, operators A and B are mutually commutative and therefore they are seperable.  ###"
   ]
  },
  {
   "cell_type": "code",
   "execution_count": 13,
   "metadata": {},
   "outputs": [],
   "source": [
    "def Ising_prog_1(n,t):\n",
    "    '''Definition of a function to obtain a sequence of gates\n",
    "       for an Ising chain with H = -0.5*(1/|i-j|)*sigma_x_i*sigma_x_j \n",
    "       - 0.5*sigma_x_j - 0.5*sigma_z_j where index i j run from 0th \n",
    "       to (n-1)th site and i is always smaller than j. Here 1st-order\n",
    "       Trotter approximant is applied. \n",
    "       param n: number of qubits (n>=2).\n",
    "       param t: evolution time.'''\n",
    "    from pyquil.paulis import exponentiate\n",
    "    factor = -0.5\n",
    "    prog = Program()\n",
    "    # The coefficients of exponential operators\n",
    "    for i in np.arange(len(comb_xx(n))):\n",
    "        prog_ini = Program()\n",
    "        prog_ini += trotterize(t*factor*comb_xx(n)[i],t*factor*comb_x(n)[i],trotter_order=1)\n",
    "        prog_ini += exponentiate(t*factor*comb_z(n)[i])\n",
    "        prog += prog_ini\n",
    "    return prog"
   ]
  },
  {
   "cell_type": "markdown",
   "metadata": {},
   "source": [
    "#### The second order Trotter approximant to $e^{t(A+B+C)}$  is given by, ###\n",
    "### $e^{t(A+B+C)} = e^{\\frac{t}{2}(A+B)}e^{tC}e^{\\frac{t}{2}(A+B)} = e^{\\frac{t}{2}A}e^{\\frac{t}{2}B}e^{tC}e^{\\frac{t}{2}A}e^{\\frac{t}{2}B} $. ###\n",
    "#### We let $A = \\sigma^{x}\\sigma^{x}, B = \\sigma^{x}, C = \\sigma^{z}$. Obviously, operators A and B are mutually commutative and therefore they are seperable.  ###"
   ]
  },
  {
   "cell_type": "code",
   "execution_count": 14,
   "metadata": {},
   "outputs": [],
   "source": [
    "def Ising_prog_2(n,t):\n",
    "    '''Definition of a function to obtain a sequence of gates\n",
    "       for an Ising chain with H = -0.5*(1/|i-j|)*sigma_x_i*sigma_x_j \n",
    "       - 0.5*sigma_x_j - 0.5*sigma_z_j where index i j run from 0th \n",
    "       to (n-1)th site and i is always smaller than j. Here 2nd-order\n",
    "       Trotter approximant is applied. \n",
    "       param n: number of qubits (n>=2).\n",
    "       param t: evolution time.'''\n",
    "    from pyquil.paulis import exponentiate\n",
    "    factor = -0.5\n",
    "    prog = Program()\n",
    "    # The coefficients of exponential operators\n",
    "    coef_lis = [1/2,1,1/2]\n",
    "    for i in np.arange(len(comb_xx(n))):\n",
    "        prog_ini = Program()\n",
    "        prog_ini += trotterize(t*factor*coef_lis[0]*comb_xx(n)[i],t*factor*coef_lis[0]*comb_x(n)[i],trotter_order=2)\n",
    "        prog_ini += exponentiate(t*factor*coef_lis[1]*comb_z(n)[i])\n",
    "        prog_ini += trotterize(t*factor*coef_lis[2]*comb_xx(n)[i],t*factor*coef_lis[2]*comb_x(n)[i],trotter_order=2)\n",
    "        prog += prog_ini\n",
    "    return prog"
   ]
  },
  {
   "cell_type": "markdown",
   "metadata": {},
   "source": [
    "#### The third order Trotter approximant to $e^{t(A+B+C)}$  is given by, ###\n",
    "### $e^{t(A+B+C)} = e^{\\frac{7}{24}t(A+B)}e^{\\frac{2}{3}tC}e^{\\frac{3}{4}t(A+B)}e^{-\\frac{2}{3}tC}e^{-\\frac{1}{24}t(A+B)}e^{tC} $. ###\n",
    "#### We let $A = \\sigma^{x}\\sigma^{x}, B = \\sigma^{x}, C = \\sigma^{z}$. Obviously, operators A and B are mutually commutative and therefore they are seperable.  ###"
   ]
  },
  {
   "cell_type": "code",
   "execution_count": 15,
   "metadata": {},
   "outputs": [],
   "source": [
    "def Ising_prog_3(n,t):\n",
    "    '''Definition of a function to obtain a sequence of gates\n",
    "       for an Ising chain with H = -0.5*(1/|i-j|)*sigma_x_i*sigma_x_j \n",
    "       - 0.5*sigma_x_j - 0.5*sigma_z_j where index i j run from 0th \n",
    "       to (n-1)th site and i is always smaller than j. Here 3rd-order\n",
    "       Trotter approximant is applied. \n",
    "       param n: number of qubits (n>=2).\n",
    "       param t: evolution time.'''\n",
    "    from pyquil.paulis import exponentiate\n",
    "    factor = -0.5\n",
    "    prog = Program()\n",
    "    # The coefficients of exponential operators\n",
    "    coef_lis = [7/24, 2/3, 3/4, -2/3, -1/24, 1]\n",
    "    for i in np.arange(len(comb_xx(n))):\n",
    "        prog_ini = Program()\n",
    "        prog_ini += trotterize(t*factor*coef_lis[0]*comb_xx(n)[i],t*factor*coef_lis[0]*comb_x(n)[i],trotter_order=3)\n",
    "        prog_ini += exponentiate(t*factor*coef_lis[1]*comb_z(n)[i])\n",
    "        prog_ini += trotterize(t*factor*coef_lis[2]*comb_xx(n)[i],t*factor*coef_lis[2]*comb_x(n)[i],trotter_order=3)\n",
    "        prog_ini += exponentiate(t*factor*coef_lis[3]*comb_z(n)[i])\n",
    "        prog_ini += trotterize(t*factor*coef_lis[4]*comb_xx(n)[i],t*factor*coef_lis[4]*comb_x(n)[i],trotter_order=3)\n",
    "        prog_ini += exponentiate(t*factor*coef_lis[5]*comb_z(n)[i])\n",
    "        prog += prog_ini\n",
    "    return prog"
   ]
  },
  {
   "cell_type": "markdown",
   "metadata": {},
   "source": [
    "#### The fourth order Trotter approximant to $e^{t(A+B+C)}$  is given by, ###\n",
    "### $e^{t(A+B+C)} = e^{\\frac{k_{2}}{2}t(A+B)}e^{k_{2}tC}e^{k_{2}t(A+B)}e^{k_{2}tC}e^{\\frac{1-3k_{2}}{2}t(A+B)}e^{(1-4k_{2}tC)}e^{\\frac{1-3k_{2}}{2}t(A+B)}e^{k_{2}tC}e^{k_{2}t(A+B)}e^{k_{2}tC}e^{\\frac{k_{2}}{2}t(A+B)}$, ###\n",
    "#### where $k_{2} = \\frac{1}{4-\\sqrt[4]{3}}$.  We let $A = \\sigma^{x}\\sigma^{x}, B = \\sigma^{x}, C = \\sigma^{z}$. Obviously, operators A and B are mutually commutative and therefore they are seperable. ###"
   ]
  },
  {
   "cell_type": "code",
   "execution_count": 16,
   "metadata": {},
   "outputs": [],
   "source": [
    "def Ising_prog_4(n,t):\n",
    "    '''Definition of a function to obtain a sequence of gates\n",
    "       for an Ising chain with H = -0.5*(1/|i-j|)*sigma_x_i*sigma_x_j \n",
    "       - 0.5*sigma_x_j - 0.5*sigma_z_j where index i j run from 0th \n",
    "       to (n-1)th site and i is always smaller than j. Here 4th-order\n",
    "       Trotter approximant is applied. \n",
    "       param n: number of qubits (n>=2).\n",
    "       param t: evolution time.'''\n",
    "    from pyquil.paulis import exponentiate\n",
    "    factor = -0.5\n",
    "    prog = Program()\n",
    "    # The coefficient k2\n",
    "    coef_k = 1/(4-4**(1/3))\n",
    "    for i in np.arange(len(comb_xx(n))):\n",
    "        prog_ini = Program()\n",
    "        prog_ini += trotterize(t*factor*(coef_k/2)*comb_xx(n)[i],t*factor*(coef_k/2)*comb_x(n)[i],trotter_order=4)\n",
    "        prog_ini += exponentiate(t*factor*coef_k*comb_z(n)[i])\n",
    "        prog_ini += trotterize(t*factor*coef_k*comb_xx(n)[i],t*factor*coef_k*comb_x(n)[i],trotter_order=4)\n",
    "        prog_ini += exponentiate(t*factor*coef_k*comb_z(n)[i])\n",
    "        prog_ini += trotterize(t*factor*((1-3*coef_k)/2)*comb_xx(n)[i],t*factor*((1-3*coef_k)/2)*comb_x(n)[i],trotter_order=4)\n",
    "        prog_ini += exponentiate(t*factor*(1-4*coef_k)*comb_z(n)[i])\n",
    "        prog_ini += trotterize(t*factor*((1-3*coef_k)/2)*comb_xx(n)[i],t*factor*((1-3*coef_k)/2)*comb_x(n)[i],trotter_order=4)\n",
    "        prog_ini += exponentiate(t*factor*coef_k*comb_z(n)[i])\n",
    "        prog_ini += trotterize(t*factor*coef_k*comb_xx(n)[i],t*factor*coef_k*comb_x(n)[i],trotter_order=4)\n",
    "        prog_ini += exponentiate(t*factor*coef_k*comb_z(n)[i])\n",
    "        prog_ini += trotterize(t*factor*(coef_k/2)*comb_xx(n)[i],t*factor*(coef_k/2)*comb_x(n)[i],trotter_order=4)\n",
    "        prog += prog_ini\n",
    "    return prog"
   ]
  },
  {
   "cell_type": "code",
   "execution_count": 17,
   "metadata": {},
   "outputs": [
    {
     "data": {
      "text/plain": [
       "1.0"
      ]
     },
     "execution_count": 17,
     "metadata": {},
     "output_type": "execute_result"
    }
   ],
   "source": [
    "wavefunction_simulator = WavefunctionSimulator()\n",
    "wavefunc_var = wavefunction_simulator.wavefunction(Ising_prog_4(n,t))\n",
    "simu_qbt = np.array(convert_col(wavefunc_var,n))\n",
    "fidelity(theo_9qbt,simu_qbt)\n",
    "#simu_qbt"
   ]
  },
  {
   "cell_type": "code",
   "execution_count": 18,
   "metadata": {},
   "outputs": [
    {
     "data": {
      "application/vnd.jupyter.widget-view+json": {
       "model_id": "357ac9803f854b41b7b4b3096d798cd7",
       "version_major": 2,
       "version_minor": 0
      },
      "text/plain": [
       "HBox(children=(IntProgress(value=0, max=8), HTML(value='')))"
      ]
     },
     "metadata": {},
     "output_type": "display_data"
    },
    {
     "name": "stdout",
     "output_type": "stream",
     "text": [
      "\n"
     ]
    }
   ],
   "source": [
    "fid_qbt_var_1 = []\n",
    "for n in tqdm_notebook(np.arange(2,10)):\n",
    "    t = 0.1\n",
    "    theo_qbt_var = expm(1j*theo_Hamil(n,t)).dot(ini_state(n))\n",
    "    wavefunction_simulator = WavefunctionSimulator()\n",
    "    wavefunc_var_1 = wavefunction_simulator.wavefunction(Ising_prog_1(n,t))\n",
    "    simu_qbt_1 = np.array(convert_col(wavefunc_var_1,n))\n",
    "    fid_qbt_1 = fidelity(theo_qbt_var,simu_qbt_1)\n",
    "    fid_qbt_var_1.append(fid_qbt_1)"
   ]
  },
  {
   "cell_type": "code",
   "execution_count": 19,
   "metadata": {},
   "outputs": [
    {
     "data": {
      "application/vnd.jupyter.widget-view+json": {
       "model_id": "0fb13461f3584ea5ac891e1a25520005",
       "version_major": 2,
       "version_minor": 0
      },
      "text/plain": [
       "HBox(children=(IntProgress(value=0, max=8), HTML(value='')))"
      ]
     },
     "metadata": {},
     "output_type": "display_data"
    },
    {
     "name": "stdout",
     "output_type": "stream",
     "text": [
      "\n"
     ]
    }
   ],
   "source": [
    "fid_qbt_var_2 = []\n",
    "for n in tqdm_notebook(np.arange(2,10)):\n",
    "    t = 0.1\n",
    "    theo_qbt_var = expm(1j*theo_Hamil(n,t)).dot(ini_state(n))\n",
    "    wavefunction_simulator = WavefunctionSimulator()\n",
    "    wavefunc_var_2 = wavefunction_simulator.wavefunction(Ising_prog_2(n,t))\n",
    "    simu_qbt_2 = np.array(convert_col(wavefunc_var_2,n))\n",
    "    fid_qbt_2 = fidelity(theo_qbt_var,simu_qbt_2)\n",
    "    fid_qbt_var_2.append(fid_qbt_2)"
   ]
  },
  {
   "cell_type": "code",
   "execution_count": 20,
   "metadata": {},
   "outputs": [
    {
     "data": {
      "application/vnd.jupyter.widget-view+json": {
       "model_id": "51e627a1d18e4a239bfe6c79b2aecdaa",
       "version_major": 2,
       "version_minor": 0
      },
      "text/plain": [
       "HBox(children=(IntProgress(value=0, max=8), HTML(value='')))"
      ]
     },
     "metadata": {},
     "output_type": "display_data"
    },
    {
     "name": "stdout",
     "output_type": "stream",
     "text": [
      "\n"
     ]
    }
   ],
   "source": [
    "fid_qbt_var_3 = []\n",
    "for n in tqdm_notebook(np.arange(2,10)):\n",
    "    t = 0.1\n",
    "    theo_qbt_var = expm(1j*theo_Hamil(n,t)).dot(ini_state(n))\n",
    "    wavefunction_simulator = WavefunctionSimulator()\n",
    "    wavefunc_var_3 = wavefunction_simulator.wavefunction(Ising_prog_3(n,t))\n",
    "    simu_qbt_3 = np.array(convert_col(wavefunc_var_3,n))\n",
    "    fid_qbt_3 = fidelity(theo_qbt_var,simu_qbt_3)\n",
    "    fid_qbt_var_3.append(fid_qbt_3)"
   ]
  },
  {
   "cell_type": "code",
   "execution_count": 21,
   "metadata": {},
   "outputs": [
    {
     "data": {
      "application/vnd.jupyter.widget-view+json": {
       "model_id": "28726163274f4c8fb33c58c23abedfb4",
       "version_major": 2,
       "version_minor": 0
      },
      "text/plain": [
       "HBox(children=(IntProgress(value=0, max=8), HTML(value='')))"
      ]
     },
     "metadata": {},
     "output_type": "display_data"
    },
    {
     "name": "stdout",
     "output_type": "stream",
     "text": [
      "\n"
     ]
    }
   ],
   "source": [
    "fid_qbt_var_4 = []\n",
    "for n in tqdm_notebook(np.arange(2,10)):\n",
    "    t = 0.1\n",
    "    theo_qbt_var = expm(1j*theo_Hamil(n,t)).dot(ini_state(n))\n",
    "    wavefunction_simulator = WavefunctionSimulator()\n",
    "    wavefunc_var_4 = wavefunction_simulator.wavefunction(Ising_prog_4(n,t))\n",
    "    simu_qbt_4 = np.array(convert_col(wavefunc_var_4,n))\n",
    "    fid_qbt_4 = fidelity(theo_qbt_var,simu_qbt_4)\n",
    "    fid_qbt_var_4.append(fid_qbt_4)"
   ]
  },
  {
   "cell_type": "code",
   "execution_count": 22,
   "metadata": {
    "scrolled": false
   },
   "outputs": [
    {
     "data": {
      "text/plain": [
       "<matplotlib.legend.Legend at 0x104eb48d0>"
      ]
     },
     "execution_count": 22,
     "metadata": {},
     "output_type": "execute_result"
    },
    {
     "data": {
      "image/png": "[encoded data removed]",
      "text/plain": [
       "<Figure size 792x576 with 1 Axes>"
      ]
     },
     "metadata": {
      "needs_background": "light"
     },
     "output_type": "display_data"
    }
   ],
   "source": [
    "plt.grid(True)\n",
    "no_of_steps = np.arange(1,101)\n",
    "plt.plot(np.arange(2,10),fid_qbt_var_1, '-', label='1st-order Trotter')\n",
    "plt.plot(np.arange(2,10),fid_qbt_var_2, '-', label='2nd-order Trotter')\n",
    "plt.plot(np.arange(2,10),fid_qbt_var_3, '-', label='3rd-order Trotter')\n",
    "plt.plot(np.arange(2,10),fid_qbt_var_4, '-', label='4th-order Trotter')\n",
    "plt.xlabel('System size')\n",
    "plt.ylabel('Fidelity')\n",
    "plt.legend(loc = \"center left\")\n",
    "#plt.savefig(output_dir+'/fid_vs_qubits_and_time_plots/'\n",
    "#            +'fid_vs_no_of_qbt_with_simu_t_01', dpi=100)"
   ]
  },
  {
   "cell_type": "markdown",
   "metadata": {},
   "source": [
    "Explanation for seperation between the first-order and the higher-order Trotter approximants behaving parabolically: initially, when system size is relatively small, the seperation increases because weight of correction terms tends to be more significant than weight of commutators of non-commutative Pauli terms; however, when system size is relatively large, which contributes to a binomially increased number of non-commutative Pauli terms, the seperation then decreases because weight of corrrection terms tends to be overwhelmed by weight of the commutators. This means, in this very situation, that approximation delivered by the higher-order Trotter approximants is asymptotically as poor as that by the first-order."
   ]
  },
  {
   "cell_type": "markdown",
   "metadata": {},
   "source": [
    "#### Now we implement coefficient of correlation to investigate the closeness of the Trotter approximants over increased evolution time."
   ]
  },
  {
   "cell_type": "markdown",
   "metadata": {},
   "source": [
    "### ${\\color{Blue}{\\mathit{\\text{Part II:}}}}$ Discretization of evolution time."
   ]
  },
  {
   "cell_type": "markdown",
   "metadata": {},
   "source": [
    "#### We first set total evolution time t = 1s."
   ]
  },
  {
   "cell_type": "code",
   "execution_count": 23,
   "metadata": {},
   "outputs": [],
   "source": [
    "def discre_of_time(n,t,no_of_step):\n",
    "    '''Definition of a function to implement discretization of time \n",
    "       for an Ising chain with Hamiltonian H =\n",
    "       -0.5*(1/|i-j|)*sigma_x_i*sigma_x_j - 0.5*sigma_x_j - 0.5*sigma_z_j \n",
    "       where index i j run from 0th to (n-1)th site and i is always smaller \n",
    "       than j. Here 2nd-order Trotter approximant is applied. Function returns\n",
    "       a wavefunc after evolution time of 1s with no_of_step number of Trotter\n",
    "       steps implemented. \n",
    "       param n: number of qubits (n>=2). \n",
    "       param t: total evolution time. \n",
    "       param no_of_step: number of Trotter steps.'''\n",
    "    wavefunction_simulator = WavefunctionSimulator()\n",
    "    prog_ini = Program()\n",
    "    prog = Ising_prog_2(n,t/no_of_step)\n",
    "    for i in np.arange(no_of_step):\n",
    "        prog_ini += prog\n",
    "    wavefunc = wavefunction_simulator.wavefunction(prog_ini)\n",
    "    return wavefunc"
   ]
  },
  {
   "cell_type": "code",
   "execution_count": 26,
   "metadata": {},
   "outputs": [],
   "source": [
    "interval = [  1,   2,   3,   4,   5,   6,   7,   8,   9,  10,  11,  12,  13,\n",
    "        14,  15,  16,  17,  18,  19,  20,  21,  22,  23,  24,  25,  26,\n",
    "        27,  28,  29,  30,  31,  32,  33,  34,  35,  36,  37,  38,  39,\n",
    "        40,  41,  42,  43,  44,  45,  46,  47,  48,  49,  50,  51,  52,\n",
    "        53,  54,  55,  56,  57,  58,  59,  60,  61,  62,  63,  64,  65,\n",
    "        66,  67,  68,  69,  70,  71,  72,  73,  74,  75,  76,  77,  78,\n",
    "        79,  80,  81,  82,  83,  84,  85,  86,  87,  88,  89,  90,  91,\n",
    "        92,  93,  94,  95,  96,  97,  98,  99, 100]"
   ]
  },
  {
   "cell_type": "code",
   "execution_count": 32,
   "metadata": {},
   "outputs": [
    {
     "data": {
      "application/vnd.jupyter.widget-view+json": {
       "model_id": "0a28f12d1485495299d45728363120ef",
       "version_major": 2,
       "version_minor": 0
      },
      "text/plain": [
       "HBox(children=(IntProgress(value=0), HTML(value='')))"
      ]
     },
     "metadata": {},
     "output_type": "display_data"
    },
    {
     "name": "stdout",
     "output_type": "stream",
     "text": [
      "\n"
     ]
    }
   ],
   "source": [
    "n = 9 # system size\n",
    "t = 1 # evolution time\n",
    "fid_9qbt_demo_1 = []\n",
    "theo_9qbt_demo_1 = expm(1j*theo_Hamil(n,t)).dot(ini_state(n))\n",
    "for i in tqdm_notebook(interval):\n",
    "    key = fidelity(theo_9qbt_demo_1,np.array(convert_col(discre_of_time(n,t,i),n)))\n",
    "    fid_9qbt_demo_1 = np.append(fid_9qbt_demo_1,key)"
   ]
  },
  {
   "cell_type": "code",
   "execution_count": 38,
   "metadata": {},
   "outputs": [
    {
     "data": {
      "application/vnd.jupyter.widget-view+json": {
       "model_id": "cef66e2f87f34341979fd7f1398bf451",
       "version_major": 2,
       "version_minor": 0
      },
      "text/plain": [
       "HBox(children=(IntProgress(value=0), HTML(value='')))"
      ]
     },
     "metadata": {},
     "output_type": "display_data"
    },
    {
     "name": "stdout",
     "output_type": "stream",
     "text": [
      "\n"
     ]
    }
   ],
   "source": [
    "n = 9 # system size\n",
    "t = 2 # evolution time\n",
    "fid_9qbt_demo_2 = []\n",
    "theo_9qbt_demo_2 = expm(1j*theo_Hamil(n,t)).dot(ini_state(n))\n",
    "for i in tqdm_notebook(interval):\n",
    "    key = fidelity(theo_9qbt_demo_2,np.array(convert_col(discre_of_time(n,t,i),n)))\n",
    "    fid_9qbt_demo_2 = np.append(fid_9qbt_demo_2,key)"
   ]
  },
  {
   "cell_type": "code",
   "execution_count": 40,
   "metadata": {},
   "outputs": [
    {
     "data": {
      "application/vnd.jupyter.widget-view+json": {
       "model_id": "73e8eb71558d4718a3ff54476ada0375",
       "version_major": 2,
       "version_minor": 0
      },
      "text/plain": [
       "HBox(children=(IntProgress(value=0), HTML(value='')))"
      ]
     },
     "metadata": {},
     "output_type": "display_data"
    },
    {
     "name": "stdout",
     "output_type": "stream",
     "text": [
      "\n"
     ]
    }
   ],
   "source": [
    "n = 9 # system size\n",
    "t = 3 # evolution time\n",
    "fid_9qbt_demo_3 = []\n",
    "theo_9qbt_demo_3 = expm(1j*theo_Hamil(n,t)).dot(ini_state(n))\n",
    "for i in tqdm_notebook(interval):\n",
    "    key = fidelity(theo_9qbt_demo_3,np.array(convert_col(discre_of_time(n,t,i),n)))\n",
    "    fid_9qbt_demo_3 = np.append(fid_9qbt_demo_3,key)"
   ]
  },
  {
   "cell_type": "code",
   "execution_count": 42,
   "metadata": {},
   "outputs": [
    {
     "data": {
      "application/vnd.jupyter.widget-view+json": {
       "model_id": "8a531c7aae6646b5a3d40dc0cde25ef5",
       "version_major": 2,
       "version_minor": 0
      },
      "text/plain": [
       "HBox(children=(IntProgress(value=0), HTML(value='')))"
      ]
     },
     "metadata": {},
     "output_type": "display_data"
    },
    {
     "name": "stdout",
     "output_type": "stream",
     "text": [
      "\n"
     ]
    }
   ],
   "source": [
    "n = 9 # system size\n",
    "t = 4 # evolution time\n",
    "fid_9qbt_demo_4 = []\n",
    "theo_9qbt_demo_4 = expm(1j*theo_Hamil(n,t)).dot(ini_state(n))\n",
    "for i in tqdm_notebook(interval):\n",
    "    key = fidelity(theo_9qbt_demo_4,np.array(convert_col(discre_of_time(n,t,i),n)))\n",
    "    fid_9qbt_demo_4 = np.append(fid_9qbt_demo_4,key)"
   ]
  },
  {
   "cell_type": "code",
   "execution_count": null,
   "metadata": {},
   "outputs": [],
   "source": [
    "n = 9 # system size\n",
    "t = 5 # evolution time\n",
    "fid_9qbt_demo_5 = []\n",
    "theo_9qbt_demo_5 = expm(1j*theo_Hamil(n,t)).dot(ini_state(n))\n",
    "for i in tqdm_notebook(interval):\n",
    "    key = fidelity(theo_9qbt_demo_5,np.array(convert_col(discre_of_time(n,t,i),n)))\n",
    "    fid_9qbt_demo_5 = np.append(fid_9qbt_demo_5,key)"
   ]
  },
  {
   "cell_type": "code",
   "execution_count": null,
   "metadata": {},
   "outputs": [],
   "source": [
    "n = 9 # system size\n",
    "t = 6 # evolution time\n",
    "fid_9qbt_demo_6 = []\n",
    "theo_9qbt_demo_6 = expm(1j*theo_Hamil(n,t)).dot(ini_state(n))\n",
    "for i in tqdm_notebook(interval):\n",
    "    key = fidelity(theo_9qbt_demo_6,np.array(convert_col(discre_of_time(n,t,i),n)))\n",
    "    fid_9qbt_demo_6 = np.append(fid_9qbt_demo_6,key)"
   ]
  },
  {
   "cell_type": "code",
   "execution_count": null,
   "metadata": {},
   "outputs": [],
   "source": [
    "n = 9 # system size\n",
    "t = 7 # evolution time\n",
    "fid_9qbt_demo_7 = []\n",
    "theo_9qbt_demo_7 = expm(1j*theo_Hamil(n,t)).dot(ini_state(n))\n",
    "for i in tqdm_notebook(interval):\n",
    "    key = fidelity(theo_9qbt_demo_7,np.array(convert_col(discre_of_time(n,t,i),n)))\n",
    "    fid_9qbt_demo_7 = np.append(fid_9qbt_demo_7,key)"
   ]
  },
  {
   "cell_type": "code",
   "execution_count": null,
   "metadata": {},
   "outputs": [],
   "source": [
    "n = 9 # system size\n",
    "t = 8 # evolution time\n",
    "fid_9qbt_demo_8 = []\n",
    "theo_9qbt_demo_8 = expm(1j*theo_Hamil(n,t)).dot(ini_state(n))\n",
    "for i in tqdm_notebook(interval):\n",
    "    key = fidelity(theo_9qbt_demo_8,np.array(convert_col(discre_of_time(n,t,i),n)))\n",
    "    fid_9qbt_demo_8 = np.append(fid_9qbt_demo_8,key)"
   ]
  },
  {
   "cell_type": "code",
   "execution_count": null,
   "metadata": {},
   "outputs": [],
   "source": [
    "n = 9 # system size\n",
    "t = 9 # evolution time\n",
    "fid_9qbt_demo_9 = []\n",
    "theo_9qbt_demo_9 = expm(1j*theo_Hamil(n,t)).dot(ini_state(n))\n",
    "for i in tqdm_notebook(interval):\n",
    "    key = fidelity(theo_9qbt_demo_9,np.array(convert_col(discre_of_time(n,t,i),n)))\n",
    "    fid_9qbt_demo_9 = np.append(fid_9qbt_demo_9,key)"
   ]
  },
  {
   "cell_type": "code",
   "execution_count": 33,
   "metadata": {},
   "outputs": [
    {
     "data": {
      "application/vnd.jupyter.widget-view+json": {
       "model_id": "91ddc21f344e409c9f33c34ca3d82589",
       "version_major": 2,
       "version_minor": 0
      },
      "text/plain": [
       "HBox(children=(IntProgress(value=0), HTML(value='')))"
      ]
     },
     "metadata": {},
     "output_type": "display_data"
    },
    {
     "name": "stdout",
     "output_type": "stream",
     "text": [
      "\n"
     ]
    }
   ],
   "source": [
    "n = 9 # system size\n",
    "t = 10 # evolution time\n",
    "fid_9qbt_demo_10 = []\n",
    "theo_9qbt_demo_10 = expm(1j*theo_Hamil(n,t)).dot(ini_state(n))\n",
    "for i in tqdm_notebook(interval):\n",
    "    key = fidelity(theo_9qbt_demo_10,np.array(convert_col(discre_of_time(n,t,i),n)))\n",
    "    fid_9qbt_demo_10 = np.append(fid_9qbt_demo_10,key)"
   ]
  },
  {
   "cell_type": "code",
   "execution_count": 43,
   "metadata": {},
   "outputs": [
    {
     "data": {
      "text/plain": [
       "<matplotlib.legend.Legend at 0xa18223320>"
      ]
     },
     "execution_count": 43,
     "metadata": {},
     "output_type": "execute_result"
    },
    {
     "data": {
      "image/png": "[encoded data removed]",
      "text/plain": [
       "<Figure size 792x576 with 1 Axes>"
      ]
     },
     "metadata": {
      "needs_background": "light"
     },
     "output_type": "display_data"
    }
   ],
   "source": [
    "plt.grid(True)\n",
    "no_of_steps = np.arange(1,101)\n",
    "plt.plot(no_of_steps, fid_9qbt_demo_1, '-', label = 't = 1')\n",
    "plt.plot(no_of_steps, fid_9qbt_demo_2, '-', label = 't = 2')\n",
    "plt.plot(no_of_steps, fid_9qbt_demo_3, '-', label = 't = 3')\n",
    "plt.plot(no_of_steps, fid_9qbt_demo_4, '-', label = 't = 4')\n",
    "plt.plot(no_of_steps, fid_9qbt_demo_10, '-', label = 't = 10')\n",
    "plt.xlabel('Number of Trotter steps')\n",
    "plt.ylabel('Fidelity')\n",
    "plt.legend(loc = \"lower right\")\n",
    "#plt.savefig(output_dir+'/fid_demo_1_to_100_steps_plots/'\n",
    "#            +'fid_vs_steps_1to100_simu_t_10', dpi=100)"
   ]
  },
  {
   "cell_type": "code",
   "execution_count": null,
   "metadata": {},
   "outputs": [],
   "source": []
  }
 ],
 "metadata": {
  "kernelspec": {
   "display_name": "Python 3",
   "language": "python",
   "name": "python3"
  },
  "language_info": {
   "codemirror_mode": {
    "name": "ipython",
    "version": 3
   },
   "file_extension": ".py",
   "mimetype": "text/x-python",
   "name": "python",
   "nbconvert_exporter": "python",
   "pygments_lexer": "ipython3",
   "version": "3.7.3"
  }
 },
 "nbformat": 4,
 "nbformat_minor": 2
}
